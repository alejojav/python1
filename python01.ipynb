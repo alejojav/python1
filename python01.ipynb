{
 "cells": [
  {
   "cell_type": "code",
   "execution_count": 1,
   "metadata": {},
   "outputs": [
    {
     "name": "stdout",
     "output_type": "stream",
     "text": [
      "estamos por aqui\n"
     ]
    }
   ],
   "source": [
    "print(\"estamos por aqui\")"
   ]
  },
  {
   "cell_type": "markdown",
   "metadata": {},
   "source": [
    "### Python\n",
    "* Variables\n",
    "* Sintaxis\n",
    "    - Tipos de errores\n",
    "* Operadores Matematicos Básicos\n",
    "* Operadores de Comparación\n",
    "* Operadores Lógicos\n",
    "* Condicionales\n",
    "    - Simples\n",
    "    - Anidadps\n",
    "    - Encadenados\n",
    "* Ciclos\n",
    "    - Finitos\n",
    "    - Infinitos\n",
    "* Funciones\n",
    "* Estructuras de Datos\n",
    "    - Cadenas de caracteres\n",
    "    - Enteros\n",
    "    - Flotantes\n",
    "    - Listas\n",
    "    - Diccionarios\n",
    "    - Tuplas\n"
   ]
  },
  {
   "cell_type": "code",
   "execution_count": 6,
   "metadata": {},
   "outputs": [],
   "source": [
    "# Variables\n",
    "name = \"josefino\" #mejor practica\n",
    "apellido='primero'"
   ]
  },
  {
   "cell_type": "code",
   "execution_count": 8,
   "metadata": {},
   "outputs": [],
   "source": [
    "last_name = \"primero\"\n",
    "lastName = 'primero'\n",
    "# last-name = \"primero\" #error en nombre de variable. no se debe colocar \"-\"\n",
    "# last.name = 'primero' #error, no se puede separar con \".\""
   ]
  },
  {
   "cell_type": "code",
   "execution_count": 2,
   "metadata": {},
   "outputs": [
    {
     "name": "stdout",
     "output_type": "stream",
     "text": [
      "Suma =  30\n",
      "-10\n",
      "200\n",
      "0.5\n"
     ]
    }
   ],
   "source": [
    "# Operadores Matematicos\n",
    "num_1 = 10\n",
    "num_2 = 20\n",
    "\n",
    "# suma\n",
    "sum_1 = num_1 + num_2\n",
    "print(\"Suma = \", sum_1)\n",
    "#resta\n",
    "res_1 = num_1 - num_2\n",
    "print(res_1)\n",
    "#multiplicación\n",
    "mul_1 = num_1 * num_2\n",
    "print(mul_1)\n",
    "# división\n",
    "div_1 = num_1 / num_2\n",
    "print(div_1)"
   ]
  },
  {
   "cell_type": "code",
   "execution_count": 3,
   "metadata": {},
   "outputs": [
    {
     "name": "stdout",
     "output_type": "stream",
     "text": [
      "Suma =  78\n",
      "-10\n",
      "1496\n",
      "0.7727272727272727\n"
     ]
    }
   ],
   "source": [
    "# Input y conversión\n",
    "num_1 = input(\"Ingrese primer número\") #input solo recibe cadenas de caracteres\n",
    "num_1 = int(num_1) #int convierte una variable en entero\n",
    "num_2 = input(\"Ingrese segundo número\")\n",
    "num_2 = int(num_2)\n",
    "\n",
    "# + concatena cadana de caracteres\n",
    "# float() convierte a flotante\n",
    "\n",
    "# suma\n",
    "sum_1 = num_1 + num_2\n",
    "print(\"Suma = \", sum_1)\n",
    "#resta\n",
    "res_1 = num_1 - num_2\n",
    "print(res_1)\n",
    "#multiplicación\n",
    "mul_1 = num_1 * num_2\n",
    "print(mul_1)\n",
    "# división\n",
    "div_1 = num_1 / num_2\n",
    "print(div_1)"
   ]
  },
  {
   "cell_type": "code",
   "execution_count": null,
   "metadata": {},
   "outputs": [],
   "source": [
    "type(num_1) # me indica el tipo de variable"
   ]
  },
  {
   "cell_type": "code",
   "execution_count": 8,
   "metadata": {},
   "outputs": [
    {
     "name": "stdout",
     "output_type": "stream",
     "text": [
      "mayor\n"
     ]
    }
   ],
   "source": [
    "# operadores de comparacion\n",
    "# >\n",
    "# <\n",
    "# >=\n",
    "# <=\n",
    "# == Igual? = para asignar y == para comparar\n",
    "# != diferente\n",
    "\n",
    "# condicional\n",
    "#if condition: sentencia... else: sentencia...\n",
    "num_1 = int(input(\"Ingrese primer número\")) \n",
    "num_2 = int(input(\"Ingrese segundo número\"))\n",
    "\n",
    "if num_1 > num_2:\n",
    "    print(\"mayor\")\n",
    "else:\n",
    "    print(\"menor\")"
   ]
  },
  {
   "cell_type": "code",
   "execution_count": 10,
   "metadata": {},
   "outputs": [
    {
     "name": "stdout",
     "output_type": "stream",
     "text": [
      "1496.0\n"
     ]
    }
   ],
   "source": [
    "# condicional encadenado\n",
    "num_1 = float(input(\"Ingrese primer número\")) #input solo recibe cadenas de caracteres\n",
    "num_2 = float(input(\"Ingrese segundo número\"))\n",
    "operation = input(\"seleccione la operación +, -, *, /\")\n",
    "\n",
    "# + concatena cadana de caracteres\n",
    "# float() convierte a flotante\n",
    "\n",
    "if (operation==\"+\"):\n",
    "    resul=num_1+num_2\n",
    "    print(resul)\n",
    "if (operation==\"-\"):\n",
    "    resul=num_1-num_2\n",
    "    print(resul)\n",
    "if (operation==\"*\"):\n",
    "    resul=num_1*num_2\n",
    "    print(resul)\n",
    "if (operation==\"/\"):\n",
    "    resul=num_1/num_2\n",
    "    print(resul)"
   ]
  }
 ],
 "metadata": {
  "kernelspec": {
   "display_name": "Python 3",
   "language": "python",
   "name": "python3"
  },
  "language_info": {
   "codemirror_mode": {
    "name": "ipython",
    "version": 3
   },
   "file_extension": ".py",
   "mimetype": "text/x-python",
   "name": "python",
   "nbconvert_exporter": "python",
   "pygments_lexer": "ipython3",
   "version": "3.12.5"
  }
 },
 "nbformat": 4,
 "nbformat_minor": 2
}
