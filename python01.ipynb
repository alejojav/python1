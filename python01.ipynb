{
 "cells": [
  {
   "cell_type": "code",
   "execution_count": 1,
   "metadata": {},
   "outputs": [
    {
     "name": "stdout",
     "output_type": "stream",
     "text": [
      "estamos por aqui\n"
     ]
    }
   ],
   "source": [
    "print(\"estamos por aqui\")"
   ]
  },
  {
   "cell_type": "markdown",
   "metadata": {},
   "source": [
    "### Python\n",
    "* Variables\n",
    "* Sintaxis\n",
    "    - Tipos de errores\n",
    "* Operadores Matematicos Básicos\n",
    "* Operadores de Comparación\n",
    "* Operadores Lógicos\n",
    "* Condicionales\n",
    "    - Simples\n",
    "    - Anidadps\n",
    "    - Encadenados\n",
    "* Ciclos\n",
    "    - Finitos\n",
    "    - Infinitos\n",
    "* Funciones\n",
    "* Estructuras de Datos\n",
    "    - Cadenas de caracteres\n",
    "    - Enteros\n",
    "    - Flotantes\n",
    "    - Listas\n",
    "    - Diccionarios\n",
    "    - Tuplas\n"
   ]
  },
  {
   "cell_type": "code",
   "execution_count": 6,
   "metadata": {},
   "outputs": [],
   "source": [
    "# Variables\n",
    "name = \"josefino\" #mejor practica\n",
    "apellido='primero'"
   ]
  },
  {
   "cell_type": "code",
   "execution_count": 8,
   "metadata": {},
   "outputs": [],
   "source": [
    "last_name = \"primero\"\n",
    "lastName = 'primero'\n",
    "# last-name = \"primero\" #error en nombre de variable. no se debe colocar \"-\"\n",
    "# last.name = 'primero' #error, no se puede separar con \".\""
   ]
  },
  {
   "cell_type": "code",
   "execution_count": 2,
   "metadata": {},
   "outputs": [
    {
     "name": "stdout",
     "output_type": "stream",
     "text": [
      "Suma =  30\n",
      "-10\n",
      "200\n",
      "0.5\n"
     ]
    }
   ],
   "source": [
    "# Operadores Matematicos\n",
    "num_1 = 10\n",
    "num_2 = 20\n",
    "\n",
    "# suma\n",
    "sum_1 = num_1 + num_2\n",
    "print(\"Suma = \", sum_1)\n",
    "#resta\n",
    "res_1 = num_1 - num_2\n",
    "print(res_1)\n",
    "#multiplicación\n",
    "mul_1 = num_1 * num_2\n",
    "print(mul_1)\n",
    "# división\n",
    "div_1 = num_1 / num_2\n",
    "print(div_1)"
   ]
  },
  {
   "cell_type": "code",
   "execution_count": 3,
   "metadata": {},
   "outputs": [
    {
     "name": "stdout",
     "output_type": "stream",
     "text": [
      "Suma =  78\n",
      "-10\n",
      "1496\n",
      "0.7727272727272727\n"
     ]
    }
   ],
   "source": [
    "# Input y conversión\n",
    "num_1 = input(\"Ingrese primer número\") #input solo recibe cadenas de caracteres\n",
    "num_1 = int(num_1) #int convierte una variable en entero\n",
    "num_2 = input(\"Ingrese segundo número\")\n",
    "num_2 = int(num_2)\n",
    "\n",
    "# + concatena cadana de caracteres\n",
    "# float() convierte a flotante\n",
    "\n",
    "# suma\n",
    "sum_1 = num_1 + num_2\n",
    "print(\"Suma = \", sum_1)\n",
    "#resta\n",
    "res_1 = num_1 - num_2\n",
    "print(res_1)\n",
    "#multiplicación\n",
    "mul_1 = num_1 * num_2\n",
    "print(mul_1)\n",
    "# división\n",
    "div_1 = num_1 / num_2\n",
    "print(div_1)"
   ]
  },
  {
   "cell_type": "code",
   "execution_count": null,
   "metadata": {},
   "outputs": [],
   "source": [
    "type(num_1) # me indica el tipo de variable"
   ]
  },
  {
   "cell_type": "code",
   "execution_count": 8,
   "metadata": {},
   "outputs": [
    {
     "name": "stdout",
     "output_type": "stream",
     "text": [
      "mayor\n"
     ]
    }
   ],
   "source": [
    "# operadores de comparacion\n",
    "# >\n",
    "# <\n",
    "# >=\n",
    "# <=\n",
    "# == Igual? = para asignar y == para comparar\n",
    "# != diferente\n",
    "\n",
    "# condicional\n",
    "#if condition: sentencia... else: sentencia...\n",
    "num_1 = int(input(\"Ingrese primer número\")) \n",
    "num_2 = int(input(\"Ingrese segundo número\"))\n",
    "\n",
    "if num_1 > num_2:\n",
    "    print(\"mayor\")\n",
    "else:\n",
    "    print(\"menor\")"
   ]
  },
  {
   "cell_type": "code",
   "execution_count": 9,
   "metadata": {},
   "outputs": [
    {
     "name": "stdout",
     "output_type": "stream",
     "text": [
      "operacion no valida, division entre cero\n"
     ]
    }
   ],
   "source": [
    "# condicional encadenado\n",
    "num_1 = float(input(\"Ingrese primer número\")) #input solo recibe cadenas de caracteres\n",
    "num_2 = float(input(\"Ingrese segundo número\"))\n",
    "operation = input(\"seleccione la operación +, -, *, /\")\n",
    "\n",
    "# + concatena cadana de caracteres\n",
    "# float() convierte a flotante\n",
    "\n",
    "if (operation==\"+\"):\n",
    "    resul=num_1+num_2\n",
    "    print(\"suma: \",resul)\n",
    "elif (operation==\"-\"):\n",
    "    resul=num_1-num_2\n",
    "    print(\"resta: \",resul)\n",
    "elif (operation==\"*\"):\n",
    "    resul=num_1*num_2\n",
    "    print(\"multiplicacion: \",resul)\n",
    "elif (operation==\"/\" and num_2 != 0):\n",
    "    resul=num_1/num_2\n",
    "    print(\"division: \",resul)\n",
    "elif (operation==\"/\" and num_2 == 0):\n",
    "    print(\"operacion no valida, division entre cero\")\n",
    "else:\n",
    "    print(\"operacion no existe\")"
   ]
  },
  {
   "cell_type": "code",
   "execution_count": 17,
   "metadata": {},
   "outputs": [
    {
     "name": "stdout",
     "output_type": "stream",
     "text": [
      "['jose', 'maria', 'juan']\n",
      "['jose', 'maria', 'juan'] ['jose2', 'maria2', 'juan2']\n",
      "maria\n",
      "juan\n",
      "['jose', 'maria', 'juan', 'ramon']\n",
      "['maria', 'juan', 'ramon']\n"
     ]
    }
   ],
   "source": [
    "# listas\n",
    "    # las listas se colocan entre corchetes\n",
    "    # indice de listas, van desde 0, 1, 2, ...\n",
    "    # los indices de listas de derecha a izquierda, final a inicio, van desde -1, -2, -3, ...\n",
    "    # primer elemento de la lista es 0, ultimo elemento de la lista -1\n",
    "names = [\"jose\", \"maria\", \"juan\"]\n",
    "names2 = [\n",
    "    \"jose2\", \n",
    "    \"maria2\", \n",
    "    \"juan2\"\n",
    "    ]\n",
    "numbers = [10, 20, 30.5]\n",
    "print (names)\n",
    "print (names, names2)\n",
    "print (names[1]) #mostrara el indice 1, segundo en la lista\n",
    "print (names[-1]) #mostrara el ultimo elemento de la lista\n",
    "#metodos de listas (https://www.w3schools.com/python/python_lists_methods.asp)\n",
    "#agregar elementos a la lista (append)\n",
    "names.append(\"ramon\")\n",
    "print (names)\n",
    "#eliminar un elemento (pop)\n",
    "names.pop(0) #elimina el elemento 0\n",
    "print (names)\n",
    "#puedo tener una lista dentro de una lista\n",
    "#puedo asignar varias listas simultaneas\n",
    "names1, names2 = [\"jose\", \"maria\", \"juan\"], [\"jose2\", \"maria2\", \"juan2\"]\n",
    "print(names1)\n",
    "print(names2)\n",
    "#ordenar listas\n",
    "names.sort()\n",
    "print(names)"
   ]
  },
  {
   "cell_type": "code",
   "execution_count": null,
   "metadata": {},
   "outputs": [],
   "source": [
    "# ciclos finitos (for)\n",
    "names = [\"jose\", \"maria\", \"juan\", \"ramon\", \"pedro\"]\n",
    "len(names) #indica la longitud de la lista\n",
    "for name in names:\n",
    "    print(name)\n",
    "# for n in names: donde n es el indice o variable de interaccion a mostrar, puede tener cualquier nombre\n",
    "#    print(n)\n",
    "print(\"***********\")\n",
    "#for con rango\n",
    "for n in range(2,7):\n",
    "    print(n)\n",
    "print(\"***********\")\n",
    "for name in range(len(names)):\n",
    "    print(name)\n",
    "print(\"***********\")\n",
    "for name in range(len(names)):\n",
    "    print(names[name])\n",
    "\n",
    "for name in range(len(names)):\n",
    "    if names[name]==\"juan\":\n",
    "        print(\"encontre a juan en la posicion: \", name)\n",
    "\n",
    "for name in range(len(names)):\n",
    "    if names[name]==\"juan\":\n",
    "        print(f\"encontre a {names[name]} en la posicion: \", name) #en este caso las {} permiten agregar variables"
   ]
  },
  {
   "cell_type": "code",
   "execution_count": 6,
   "metadata": {},
   "outputs": [
    {
     "name": "stdout",
     "output_type": "stream",
     "text": [
      "ciclo 0\n",
      "ciclo 1\n",
      "ciclo 2\n",
      "ciclo 3\n",
      "ciclo 4\n"
     ]
    }
   ],
   "source": [
    "# Ciclos infinitos\n",
    "num1 = 0\n",
    "while num1 < 5:\n",
    "    print(\"ciclo\", num1)\n",
    "    num1 = num1 + 1\n"
   ]
  },
  {
   "cell_type": "code",
   "execution_count": 7,
   "metadata": {},
   "outputs": [],
   "source": [
    "# funciones\n",
    "def suma_dos():\n",
    "    num_a = 20\n",
    "    num_b = 30\n",
    "    return num_a + num_b"
   ]
  },
  {
   "cell_type": "code",
   "execution_count": 9,
   "metadata": {},
   "outputs": [
    {
     "data": {
      "text/plain": [
       "50"
      ]
     },
     "execution_count": 9,
     "metadata": {},
     "output_type": "execute_result"
    }
   ],
   "source": [
    "suma_dos()"
   ]
  },
  {
   "cell_type": "code",
   "execution_count": 11,
   "metadata": {},
   "outputs": [],
   "source": [
    "def suma_new(num_a, num_b):\n",
    "    result = num_a + num_b\n",
    "    return result"
   ]
  },
  {
   "cell_type": "code",
   "execution_count": 12,
   "metadata": {},
   "outputs": [
    {
     "data": {
      "text/plain": [
       "23"
      ]
     },
     "execution_count": 12,
     "metadata": {},
     "output_type": "execute_result"
    }
   ],
   "source": [
    "suma_new(11, 12)"
   ]
  },
  {
   "cell_type": "code",
   "execution_count": 17,
   "metadata": {},
   "outputs": [
    {
     "name": "stdout",
     "output_type": "stream",
     "text": [
      "4\n"
     ]
    },
    {
     "data": {
      "text/plain": [
       "10"
      ]
     },
     "execution_count": 17,
     "metadata": {},
     "output_type": "execute_result"
    }
   ],
   "source": [
    "def suma_new2(num_a=1, num_b=3): # se puede colocar argumentos por defecto en los parametros de la funcion\n",
    "    result = num_a + num_b\n",
    "    return result\n",
    "print(suma_new2())\n",
    "print(suma_new2(5, 5))"
   ]
  }
 ],
 "metadata": {
  "kernelspec": {
   "display_name": "Python 3",
   "language": "python",
   "name": "python3"
  },
  "language_info": {
   "codemirror_mode": {
    "name": "ipython",
    "version": 3
   },
   "file_extension": ".py",
   "mimetype": "text/x-python",
   "name": "python",
   "nbconvert_exporter": "python",
   "pygments_lexer": "ipython3",
   "version": "3.12.5"
  }
 },
 "nbformat": 4,
 "nbformat_minor": 2
}
